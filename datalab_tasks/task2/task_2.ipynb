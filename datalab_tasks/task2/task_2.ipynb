{
 "cells": [
  {
   "cell_type": "code",
   "execution_count": 1,
   "metadata": {},
   "outputs": [
    {
     "name": "stdout",
     "output_type": "stream",
     "text": [
      "Processing: .\\045_43-17-ROOT1-2023-08-08_control_pH7_-Fe+B_col0_02-Fish Eye Corrected.png\n",
      "Contours found: 12\n",
      "Saved cropped image to: output_cropped_images\\cropped_045_43-17-ROOT1-2023-08-08_control_pH7_-Fe+B_col0_02-Fish Eye Corrected.png\n",
      "Processing: .\\051_43-11-ROOT1-2023-08-08_control_pH7_-Fe+B_col0_04-Fish Eye Corrected.png\n",
      "Contours found: 13\n",
      "Saved cropped image to: output_cropped_images\\cropped_051_43-11-ROOT1-2023-08-08_control_pH7_-Fe+B_col0_04-Fish Eye Corrected.png\n",
      "Processing: .\\train_Dean_226324_im3.png\n",
      "Contours found: 80\n",
      "Saved cropped image to: output_cropped_images\\cropped_train_Dean_226324_im3.png\n",
      "Processing: .\\train_Dean_230632_im5.png\n",
      "Contours found: 105\n",
      "Saved cropped image to: output_cropped_images\\cropped_train_Dean_230632_im5.png\n"
     ]
    }
   ],
   "source": [
    "import cv2\n",
    "import numpy as np\n",
    "import os\n",
    "\n",
    "def process_and_crop(image_file, save_path):\n",
    "    print(f\"Processing: {image_file}\")\n",
    "    gray_image = cv2.imread(image_file, cv2.IMREAD_GRAYSCALE)\n",
    "    if gray_image is None:\n",
    "        print(f\"Failed to load image: {image_file}\")\n",
    "        return\n",
    "\n",
    "    blurred_image = cv2.GaussianBlur(gray_image, (5, 5), 0)\n",
    "    _, threshold_image = cv2.threshold(blurred_image, 50, 255, cv2.THRESH_BINARY)\n",
    "\n",
    "    shape_contours, _ = cv2.findContours(threshold_image, cv2.RETR_EXTERNAL, cv2.CHAIN_APPROX_SIMPLE)\n",
    "    print(f\"Contours found: {len(shape_contours)}\")\n",
    "\n",
    "    largest_shape = None\n",
    "    max_shape_area = 0\n",
    "    for shape in shape_contours:\n",
    "        approximated_shape = cv2.approxPolyDP(shape, 0.02 * cv2.arcLength(shape, True), True)\n",
    "        if len(approximated_shape) == 4 and cv2.isContourConvex(approximated_shape):\n",
    "            shape_area = cv2.contourArea(approximated_shape)\n",
    "            if shape_area > max_shape_area:\n",
    "                max_shape_area = shape_area\n",
    "                largest_shape = approximated_shape\n",
    "\n",
    "    if largest_shape is not None:\n",
    "        rect_x, rect_y, rect_width, rect_height = cv2.boundingRect(largest_shape)\n",
    "        square_size = max(rect_width, rect_height)\n",
    "        cropped_image = gray_image[rect_y:rect_y+square_size, rect_x:rect_x+square_size]\n",
    "        cv2.imwrite(save_path, cropped_image)\n",
    "        print(f\"Saved cropped image to: {save_path}\")\n",
    "    else:\n",
    "        print(\"No square-like Petri dish found.\")\n",
    "\n",
    "# List of input image names\n",
    "image_files = [\n",
    "    \"045_43-17-ROOT1-2023-08-08_control_pH7_-Fe+B_col0_02-Fish Eye Corrected.png\",\n",
    "    \"051_43-11-ROOT1-2023-08-08_control_pH7_-Fe+B_col0_04-Fish Eye Corrected.png\",\n",
    "    \"train_Dean_226324_im3.png\",\n",
    "    \"train_Dean_230632_im5.png\"\n",
    "]\n",
    "\n",
    "# Define the new output directory\n",
    "output_directory = \"output_cropped_images\"\n",
    "os.makedirs(output_directory, exist_ok=True)\n",
    "\n",
    "# Process each image and save cropped output\n",
    "for file_name in image_files:\n",
    "    input_file_path = os.path.join(\".\", file_name)  # Assuming images are in the same folder\n",
    "    output_file_path = os.path.join(output_directory, f\"cropped_{file_name}\")\n",
    "    process_and_crop(input_file_path, output_file_path)\n"
   ]
  },
  {
   "cell_type": "code",
   "execution_count": null,
   "metadata": {},
   "outputs": [],
   "source": []
  }
 ],
 "metadata": {
  "kernelspec": {
   "display_name": "Python 3",
   "language": "python",
   "name": "python3"
  },
  "language_info": {
   "codemirror_mode": {
    "name": "ipython",
    "version": 3
   },
   "file_extension": ".py",
   "mimetype": "text/x-python",
   "name": "python",
   "nbconvert_exporter": "python",
   "pygments_lexer": "ipython3",
   "version": "3.8.7"
  }
 },
 "nbformat": 4,
 "nbformat_minor": 2
}
