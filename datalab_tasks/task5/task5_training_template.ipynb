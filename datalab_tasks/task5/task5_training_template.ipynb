{
 "cells": [
  {
   "cell_type": "code",
   "execution_count": null,
   "metadata": {},
   "outputs": [],
   "source": [
    "# import things"
   ]
  },
  {
   "cell_type": "code",
   "execution_count": null,
   "metadata": {},
   "outputs": [],
   "source": [
    "# REQUIREMENT: Do not add code from Tasks 2 or 4\n",
    "# REQUIREMENT: All dataset prep (crop/pad/patch/directory structure) must be finalize before attempting this task.\n",
    "patch_size = ...\n",
    "patch_dir = 'dataset_for_unet_patched'"
   ]
  },
  {
   "cell_type": "code",
   "execution_count": 3,
   "metadata": {},
   "outputs": [],
   "source": [
    "def f1(y_true, y_pred):\n",
    "    def recall_m(y_true, y_pred):\n",
    "        TP = K.sum(K.round(K.clip(y_true * y_pred, 0, 1)))\n",
    "        Positives = K.sum(K.round(K.clip(y_true, 0, 1)))\n",
    "        recall = TP / (Positives+K.epsilon())\n",
    "        return recall\n",
    "    \n",
    "    def precision_m(y_true, y_pred):\n",
    "        TP = K.sum(K.round(K.clip(y_true * y_pred, 0, 1)))\n",
    "        Pred_Positives = K.sum(K.round(K.clip(y_pred, 0, 1)))\n",
    "        precision = TP / (Pred_Positives+K.epsilon())\n",
    "        return precision\n",
    "    \n",
    "    precision, recall = precision_m(y_true, y_pred), recall_m(y_true, y_pred)\n",
    "    \n",
    "    return 2*((precision*recall)/(precision+recall+K.epsilon()))"
   ]
  },
  {
   "cell_type": "code",
   "execution_count": null,
   "metadata": {},
   "outputs": [],
   "source": [
    "# Define U-Net\n",
    "def simple_unet_model(IMG_HEIGHT, IMG_WIDTH, IMG_CHANNELS):\n",
    "    ...\n",
    "    return model"
   ]
  },
  {
   "cell_type": "code",
   "execution_count": null,
   "metadata": {},
   "outputs": [
    {
     "name": "stderr",
     "output_type": "stream",
     "text": [
      "2024-11-05 23:48:51.520138: I metal_plugin/src/device/metal_device.cc:1154] Metal device set to: Apple M2 Max\n",
      "2024-11-05 23:48:51.520155: I metal_plugin/src/device/metal_device.cc:296] systemMemory: 32.00 GB\n",
      "2024-11-05 23:48:51.520160: I metal_plugin/src/device/metal_device.cc:313] maxCacheSize: 10.67 GB\n",
      "2024-11-05 23:48:51.520190: I tensorflow/core/common_runtime/pluggable_device/pluggable_device_factory.cc:303] Could not identify NUMA node of platform GPU ID 0, defaulting to 0. Your kernel may not have been built with NUMA support.\n",
      "2024-11-05 23:48:51.520204: I tensorflow/core/common_runtime/pluggable_device/pluggable_device_factory.cc:269] Created TensorFlow device (/job:localhost/replica:0/task:0/device:GPU:0 with 0 MB memory) -> physical PluggableDevice (device: 0, name: METAL, pci bus id: <undefined>)\n"
     ]
    },
    {
     "name": "stdout",
     "output_type": "stream",
     "text": [
      "Model: \"model\"\n",
      "__________________________________________________________________________________________________\n",
      " Layer (type)                Output Shape                 Param #   Connected to                  \n",
      "==================================================================================================\n",
      " input_1 (InputLayer)        [(None, 256, 256, 1)]        0         []                            \n",
      "                                                                                                  \n",
      " conv2d (Conv2D)             (None, 256, 256, 16)         160       ['input_1[0][0]']             \n",
      "                                                                                                  \n",
      " dropout (Dropout)           (None, 256, 256, 16)         0         ['conv2d[0][0]']              \n",
      "                                                                                                  \n",
      " conv2d_1 (Conv2D)           (None, 256, 256, 16)         2320      ['dropout[0][0]']             \n",
      "                                                                                                  \n",
      " max_pooling2d (MaxPooling2  (None, 128, 128, 16)         0         ['conv2d_1[0][0]']            \n",
      " D)                                                                                               \n",
      "                                                                                                  \n",
      " conv2d_2 (Conv2D)           (None, 128, 128, 32)         4640      ['max_pooling2d[0][0]']       \n",
      "                                                                                                  \n",
      " dropout_1 (Dropout)         (None, 128, 128, 32)         0         ['conv2d_2[0][0]']            \n",
      "                                                                                                  \n",
      " conv2d_3 (Conv2D)           (None, 128, 128, 32)         9248      ['dropout_1[0][0]']           \n",
      "                                                                                                  \n",
      " max_pooling2d_1 (MaxPoolin  (None, 64, 64, 32)           0         ['conv2d_3[0][0]']            \n",
      " g2D)                                                                                             \n",
      "                                                                                                  \n",
      " conv2d_4 (Conv2D)           (None, 64, 64, 64)           18496     ['max_pooling2d_1[0][0]']     \n",
      "                                                                                                  \n",
      " dropout_2 (Dropout)         (None, 64, 64, 64)           0         ['conv2d_4[0][0]']            \n",
      "                                                                                                  \n",
      " conv2d_5 (Conv2D)           (None, 64, 64, 64)           36928     ['dropout_2[0][0]']           \n",
      "                                                                                                  \n",
      " max_pooling2d_2 (MaxPoolin  (None, 32, 32, 64)           0         ['conv2d_5[0][0]']            \n",
      " g2D)                                                                                             \n",
      "                                                                                                  \n",
      " conv2d_6 (Conv2D)           (None, 32, 32, 128)          73856     ['max_pooling2d_2[0][0]']     \n",
      "                                                                                                  \n",
      " dropout_3 (Dropout)         (None, 32, 32, 128)          0         ['conv2d_6[0][0]']            \n",
      "                                                                                                  \n",
      " conv2d_7 (Conv2D)           (None, 32, 32, 128)          147584    ['dropout_3[0][0]']           \n",
      "                                                                                                  \n",
      " max_pooling2d_3 (MaxPoolin  (None, 16, 16, 128)          0         ['conv2d_7[0][0]']            \n",
      " g2D)                                                                                             \n",
      "                                                                                                  \n",
      " conv2d_8 (Conv2D)           (None, 16, 16, 256)          295168    ['max_pooling2d_3[0][0]']     \n",
      "                                                                                                  \n",
      " dropout_4 (Dropout)         (None, 16, 16, 256)          0         ['conv2d_8[0][0]']            \n",
      "                                                                                                  \n",
      " conv2d_9 (Conv2D)           (None, 16, 16, 256)          590080    ['dropout_4[0][0]']           \n",
      "                                                                                                  \n",
      " conv2d_transpose (Conv2DTr  (None, 32, 32, 128)          131200    ['conv2d_9[0][0]']            \n",
      " anspose)                                                                                         \n",
      "                                                                                                  \n",
      " concatenate (Concatenate)   (None, 32, 32, 256)          0         ['conv2d_transpose[0][0]',    \n",
      "                                                                     'conv2d_7[0][0]']            \n",
      "                                                                                                  \n",
      " conv2d_10 (Conv2D)          (None, 32, 32, 128)          295040    ['concatenate[0][0]']         \n",
      "                                                                                                  \n",
      " dropout_5 (Dropout)         (None, 32, 32, 128)          0         ['conv2d_10[0][0]']           \n",
      "                                                                                                  \n",
      " conv2d_11 (Conv2D)          (None, 32, 32, 128)          147584    ['dropout_5[0][0]']           \n",
      "                                                                                                  \n",
      " conv2d_transpose_1 (Conv2D  (None, 64, 64, 64)           32832     ['conv2d_11[0][0]']           \n",
      " Transpose)                                                                                       \n",
      "                                                                                                  \n",
      " concatenate_1 (Concatenate  (None, 64, 64, 128)          0         ['conv2d_transpose_1[0][0]',  \n",
      " )                                                                   'conv2d_5[0][0]']            \n",
      "                                                                                                  \n",
      " conv2d_12 (Conv2D)          (None, 64, 64, 64)           73792     ['concatenate_1[0][0]']       \n",
      "                                                                                                  \n",
      " dropout_6 (Dropout)         (None, 64, 64, 64)           0         ['conv2d_12[0][0]']           \n",
      "                                                                                                  \n",
      " conv2d_13 (Conv2D)          (None, 64, 64, 64)           36928     ['dropout_6[0][0]']           \n",
      "                                                                                                  \n",
      " conv2d_transpose_2 (Conv2D  (None, 128, 128, 32)         8224      ['conv2d_13[0][0]']           \n",
      " Transpose)                                                                                       \n",
      "                                                                                                  \n",
      " concatenate_2 (Concatenate  (None, 128, 128, 64)         0         ['conv2d_transpose_2[0][0]',  \n",
      " )                                                                   'conv2d_3[0][0]']            \n",
      "                                                                                                  \n",
      " conv2d_14 (Conv2D)          (None, 128, 128, 32)         18464     ['concatenate_2[0][0]']       \n",
      "                                                                                                  \n",
      " dropout_7 (Dropout)         (None, 128, 128, 32)         0         ['conv2d_14[0][0]']           \n",
      "                                                                                                  \n",
      " conv2d_15 (Conv2D)          (None, 128, 128, 32)         9248      ['dropout_7[0][0]']           \n",
      "                                                                                                  \n",
      " conv2d_transpose_3 (Conv2D  (None, 256, 256, 16)         2064      ['conv2d_15[0][0]']           \n",
      " Transpose)                                                                                       \n",
      "                                                                                                  \n",
      " concatenate_3 (Concatenate  (None, 256, 256, 32)         0         ['conv2d_transpose_3[0][0]',  \n",
      " )                                                                   'conv2d_1[0][0]']            \n",
      "                                                                                                  \n",
      " conv2d_16 (Conv2D)          (None, 256, 256, 16)         4624      ['concatenate_3[0][0]']       \n",
      "                                                                                                  \n",
      " dropout_8 (Dropout)         (None, 256, 256, 16)         0         ['conv2d_16[0][0]']           \n",
      "                                                                                                  \n",
      " conv2d_17 (Conv2D)          (None, 256, 256, 16)         2320      ['dropout_8[0][0]']           \n",
      "                                                                                                  \n",
      " conv2d_18 (Conv2D)          (None, 256, 256, 1)          17        ['conv2d_17[0][0]']           \n",
      "                                                                                                  \n",
      "==================================================================================================\n",
      "Total params: 1940817 (7.40 MB)\n",
      "Trainable params: 1940817 (7.40 MB)\n",
      "Non-trainable params: 0 (0.00 Byte)\n",
      "__________________________________________________________________________________________________\n"
     ]
    }
   ],
   "source": [
    "# Build U-Net\n",
    "# REQUIREMENT: Model summary must be visible\n",
    "model = simple_unet_model(...)"
   ]
  },
  {
   "cell_type": "code",
   "execution_count": null,
   "metadata": {},
   "outputs": [
    {
     "name": "stdout",
     "output_type": "stream",
     "text": [
      "Found 11132 images belonging to 1 classes.\n",
      "Found 11132 images belonging to 1 classes.\n"
     ]
    }
   ],
   "source": [
    "# Setup a generator for training"
   ]
  },
  {
   "cell_type": "code",
   "execution_count": null,
   "metadata": {},
   "outputs": [
    {
     "name": "stdout",
     "output_type": "stream",
     "text": [
      "Found 2783 images belonging to 1 classes.\n",
      "Found 2783 images belonging to 1 classes.\n"
     ]
    }
   ],
   "source": [
    "# Setup a generator for validation"
   ]
  },
  {
   "cell_type": "code",
   "execution_count": null,
   "metadata": {},
   "outputs": [],
   "source": [
    "# EarlyStopping()\n",
    "from keras.callbacks import EarlyStopping\n",
    "cb = EarlyStopping(...)"
   ]
  },
  {
   "cell_type": "code",
   "execution_count": null,
   "metadata": {},
   "outputs": [
    {
     "name": "stdout",
     "output_type": "stream",
     "text": [
      "Epoch 1/100\n"
     ]
    },
    {
     "name": "stderr",
     "output_type": "stream",
     "text": [
      "2024-11-05 23:48:53.896573: I tensorflow/core/grappler/optimizers/custom_graph_optimizer_registry.cc:114] Plugin optimizer for device_type GPU is enabled.\n"
     ]
    },
    {
     "name": "stdout",
     "output_type": "stream",
     "text": [
      "696/696 [==============================] - ETA: 0s - loss: 0.0358 - accuracy: 0.9904 - f1: 0.2343"
     ]
    },
    {
     "name": "stderr",
     "output_type": "stream",
     "text": [
      "2024-11-05 23:49:52.074599: I tensorflow/core/grappler/optimizers/custom_graph_optimizer_registry.cc:114] Plugin optimizer for device_type GPU is enabled.\n"
     ]
    },
    {
     "name": "stdout",
     "output_type": "stream",
     "text": [
      "696/696 [==============================] - 66s 92ms/step - loss: 0.0358 - accuracy: 0.9904 - f1: 0.2343 - val_loss: 0.0107 - val_accuracy: 0.9965 - val_f1: 0.6523\n",
      "Epoch 2/100\n",
      "696/696 [==============================] - 66s 95ms/step - loss: 0.0125 - accuracy: 0.9956 - f1: 0.7035 - val_loss: 0.0065 - val_accuracy: 0.9975 - val_f1: 0.7533\n",
      "Epoch 3/100\n",
      "696/696 [==============================] - 67s 97ms/step - loss: 0.0098 - accuracy: 0.9962 - f1: 0.7589 - val_loss: 0.0059 - val_accuracy: 0.9978 - val_f1: 0.7701\n",
      "Epoch 4/100\n",
      "696/696 [==============================] - 68s 98ms/step - loss: 0.0091 - accuracy: 0.9964 - f1: 0.7624 - val_loss: 0.0060 - val_accuracy: 0.9977 - val_f1: 0.7575\n",
      "Epoch 5/100\n",
      "696/696 [==============================] - 68s 97ms/step - loss: 0.0087 - accuracy: 0.9965 - f1: 0.7755 - val_loss: 0.0055 - val_accuracy: 0.9978 - val_f1: 0.7785\n",
      "Epoch 6/100\n",
      "696/696 [==============================] - 66s 95ms/step - loss: 0.0088 - accuracy: 0.9966 - f1: 0.7755 - val_loss: 0.0052 - val_accuracy: 0.9979 - val_f1: 0.7520\n",
      "Epoch 7/100\n",
      "696/696 [==============================] - 66s 95ms/step - loss: 0.0086 - accuracy: 0.9966 - f1: 0.7851 - val_loss: 0.0051 - val_accuracy: 0.9980 - val_f1: 0.7840\n",
      "Epoch 8/100\n",
      "696/696 [==============================] - 66s 94ms/step - loss: 0.0083 - accuracy: 0.9967 - f1: 0.7895 - val_loss: 0.0055 - val_accuracy: 0.9978 - val_f1: 0.7994\n",
      "Epoch 9/100\n",
      "696/696 [==============================] - 65s 94ms/step - loss: 0.0082 - accuracy: 0.9967 - f1: 0.7914 - val_loss: 0.0053 - val_accuracy: 0.9979 - val_f1: 0.7979\n",
      "Epoch 10/100\n",
      "696/696 [==============================] - 65s 94ms/step - loss: 0.0083 - accuracy: 0.9967 - f1: 0.7907 - val_loss: 0.0052 - val_accuracy: 0.9979 - val_f1: 0.7978\n",
      "Epoch 11/100\n",
      "696/696 [==============================] - 64s 92ms/step - loss: 0.0079 - accuracy: 0.9968 - f1: 0.7976 - val_loss: 0.0051 - val_accuracy: 0.9979 - val_f1: 0.7982\n",
      "Epoch 12/100\n",
      "696/696 [==============================] - 63s 91ms/step - loss: 0.0079 - accuracy: 0.9968 - f1: 0.8009 - val_loss: 0.0051 - val_accuracy: 0.9979 - val_f1: 0.7808\n",
      "Epoch 13/100\n",
      "696/696 [==============================] - 63s 91ms/step - loss: 0.0080 - accuracy: 0.9968 - f1: 0.7993 - val_loss: 0.0050 - val_accuracy: 0.9980 - val_f1: 0.7818\n",
      "Epoch 14/100\n",
      "696/696 [==============================] - 64s 91ms/step - loss: 0.0079 - accuracy: 0.9968 - f1: 0.7990 - val_loss: 0.0051 - val_accuracy: 0.9980 - val_f1: 0.7889\n",
      "Epoch 15/100\n",
      "696/696 [==============================] - 63s 91ms/step - loss: 0.0078 - accuracy: 0.9968 - f1: 0.7986 - val_loss: 0.0049 - val_accuracy: 0.9980 - val_f1: 0.8020\n",
      "Epoch 16/100\n",
      "696/696 [==============================] - 63s 91ms/step - loss: 0.0078 - accuracy: 0.9968 - f1: 0.8060 - val_loss: 0.0055 - val_accuracy: 0.9978 - val_f1: 0.7821\n",
      "Epoch 17/100\n",
      "696/696 [==============================] - 63s 91ms/step - loss: 0.0079 - accuracy: 0.9968 - f1: 0.7996 - val_loss: 0.0050 - val_accuracy: 0.9980 - val_f1: 0.7936\n",
      "Epoch 18/100\n",
      "696/696 [==============================] - 63s 91ms/step - loss: 0.0078 - accuracy: 0.9968 - f1: 0.7998 - val_loss: 0.0050 - val_accuracy: 0.9980 - val_f1: 0.8085\n",
      "Epoch 19/100\n",
      "696/696 [==============================] - 63s 91ms/step - loss: 0.0076 - accuracy: 0.9969 - f1: 0.8008 - val_loss: 0.0050 - val_accuracy: 0.9980 - val_f1: 0.7707\n",
      "Epoch 20/100\n",
      "696/696 [==============================] - 63s 91ms/step - loss: 0.0076 - accuracy: 0.9969 - f1: 0.7998 - val_loss: 0.0052 - val_accuracy: 0.9979 - val_f1: 0.7782\n",
      "Epoch 21/100\n",
      "696/696 [==============================] - 63s 91ms/step - loss: 0.0079 - accuracy: 0.9968 - f1: 0.7972 - val_loss: 0.0048 - val_accuracy: 0.9981 - val_f1: 0.7790\n",
      "Epoch 22/100\n",
      "696/696 [==============================] - 63s 91ms/step - loss: 0.0075 - accuracy: 0.9969 - f1: 0.8004 - val_loss: 0.0049 - val_accuracy: 0.9980 - val_f1: 0.8055\n",
      "Epoch 23/100\n",
      "696/696 [==============================] - 63s 91ms/step - loss: 0.0077 - accuracy: 0.9968 - f1: 0.8037 - val_loss: 0.0053 - val_accuracy: 0.9979 - val_f1: 0.7720\n",
      "Epoch 24/100\n",
      "696/696 [==============================] - 63s 91ms/step - loss: 0.0075 - accuracy: 0.9969 - f1: 0.8046 - val_loss: 0.0051 - val_accuracy: 0.9980 - val_f1: 0.8008\n",
      "Epoch 25/100\n",
      "696/696 [==============================] - 63s 90ms/step - loss: 0.0074 - accuracy: 0.9969 - f1: 0.8099 - val_loss: 0.0047 - val_accuracy: 0.9981 - val_f1: 0.7966\n",
      "Epoch 26/100\n",
      "696/696 [==============================] - 63s 91ms/step - loss: 0.0076 - accuracy: 0.9969 - f1: 0.8035 - val_loss: 0.0057 - val_accuracy: 0.9978 - val_f1: 0.7873\n",
      "Epoch 27/100\n",
      "696/696 [==============================] - 63s 91ms/step - loss: 0.0083 - accuracy: 0.9967 - f1: 0.7910 - val_loss: 0.0051 - val_accuracy: 0.9980 - val_f1: 0.7901\n",
      "Epoch 28/100\n",
      "696/696 [==============================] - 63s 90ms/step - loss: 0.0077 - accuracy: 0.9969 - f1: 0.8010 - val_loss: 0.0048 - val_accuracy: 0.9981 - val_f1: 0.8006\n",
      "Epoch 29/100\n",
      "696/696 [==============================] - 63s 90ms/step - loss: 0.0077 - accuracy: 0.9969 - f1: 0.7994 - val_loss: 0.0051 - val_accuracy: 0.9980 - val_f1: 0.7811\n",
      "Epoch 30/100\n",
      "696/696 [==============================] - 63s 90ms/step - loss: 0.0077 - accuracy: 0.9969 - f1: 0.8016 - val_loss: 0.0051 - val_accuracy: 0.9980 - val_f1: 0.7714\n",
      "Epoch 31/100\n",
      "696/696 [==============================] - 63s 90ms/step - loss: 0.0077 - accuracy: 0.9969 - f1: 0.8041 - val_loss: 0.0051 - val_accuracy: 0.9980 - val_f1: 0.8034\n",
      "Epoch 32/100\n",
      "696/696 [==============================] - 63s 90ms/step - loss: 0.0076 - accuracy: 0.9969 - f1: 0.8012 - val_loss: 0.0048 - val_accuracy: 0.9981 - val_f1: 0.8092\n",
      "Epoch 33/100\n",
      "696/696 [==============================] - 63s 90ms/step - loss: 0.0081 - accuracy: 0.9968 - f1: 0.7947 - val_loss: 0.0056 - val_accuracy: 0.9977 - val_f1: 0.7630\n"
     ]
    }
   ],
   "source": [
    "# This is where the magic happens\n",
    "# REQUIREMENT: The epoch logs must be visible showing validation loss and validation f1.\n",
    "history = model.fit(...)"
   ]
  },
  {
   "cell_type": "code",
   "execution_count": null,
   "metadata": {},
   "outputs": [
    {
     "name": "stdout",
     "output_type": "stream",
     "text": [
      "alican_123456_unet_model_256px.h5\n"
     ]
    },
    {
     "name": "stderr",
     "output_type": "stream",
     "text": [
      "/Users/alican/anaconda3/envs/y2b_24/lib/python3.8/site-packages/keras/src/engine/training.py:3000: UserWarning: You are saving your model as an HDF5 file via `model.save()`. This file format is considered legacy. We recommend using instead the native Keras format, e.g. `model.save('my_model.keras')`.\n",
      "  saving_api.save_model(\n"
     ]
    }
   ],
   "source": [
    "# REQUIREMENT: Save your model, it is a deliverable\n",
    "# REQUIREMENT: naming convention 'studentname_studentnumber_unet_model_patchsizepx.h5'\n",
    "example_file_name = f'alican_123456_unet_model_{patch_size}px.h5'\n",
    "print(example_file_name)\n",
    "model.save(example_file_name)"
   ]
  },
  {
   "cell_type": "code",
   "execution_count": null,
   "metadata": {},
   "outputs": [
    {
     "name": "stdout",
     "output_type": "stream",
     "text": [
      "Best validation loss: 0.004732396919280291\n",
      "Best validation f1: 0.8092314600944519\n"
     ]
    }
   ],
   "source": [
    "# REQUIREMENT: Run and display the output of this cell.\n",
    "# REQUIREMENT: Do not change the code.\n",
    "best_val_loss = min(history.history['val_loss'])\n",
    "best_val_f1 = max(history.history['val_f1'])\n",
    "print(f\"Best validation loss: {best_val_loss}\")\n",
    "print(f\"Best validation f1: {best_val_f1}\")"
   ]
  },
  {
   "cell_type": "code",
   "execution_count": null,
   "metadata": {},
   "outputs": [
    {
     "data": {
      "image/png": "[encoded data removed]",
      "text/plain": [
       "<Figure size 640x480 with 1 Axes>"
      ]
     },
     "metadata": {},
     "output_type": "display_data"
    }
   ],
   "source": [
    "# REQUIREMENT: Run and display the output of this cell.\n",
    "# REQUIREMENT: Do not change the code.\n",
    "loss = history.history['loss']\n",
    "val_loss = history.history['val_loss']\n",
    "\n",
    "epochs = np.arange(1, len(loss) + 1)\n",
    "\n",
    "plt.plot(epochs, loss, label='train_loss')\n",
    "plt.plot(epochs, val_loss, label='val_loss')\n",
    "plt.legend()\n",
    "plt.xlabel('Epoch')\n",
    "plt.ylabel('Loss (binary_crossentropy)')\n",
    "_ = plt.xticks(np.arange(1, len(loss) + 1, 3))"
   ]
  },
  {
   "cell_type": "code",
   "execution_count": null,
   "metadata": {},
   "outputs": [
    {
     "data": {
      "image/png": "[encoded data removed]",
      "text/plain": [
       "<Figure size 640x480 with 1 Axes>"
      ]
     },
     "metadata": {},
     "output_type": "display_data"
    }
   ],
   "source": [
    "# REQUIREMENT: Run and display the output of this cell.\n",
    "# REQUIREMENT: Do not change the code.\n",
    "train_f1 = history.history['f1']\n",
    "val_f1 = history.history['val_f1']\n",
    "\n",
    "epochs = np.arange(1, len(train_f1) + 1)\n",
    "\n",
    "plt.plot(epochs, train_f1, label='train_f1')\n",
    "plt.plot(epochs, val_f1, label='val_f1')\n",
    "plt.legend()\n",
    "plt.xlabel('Epoch')\n",
    "plt.ylabel('F1')\n",
    "_ = plt.xticks(np.arange(1, len(loss) + 1, 3))"
   ]
  }
 ],
 "metadata": {
  "kernelspec": {
   "display_name": "y2b_24",
   "language": "python",
   "name": "python3"
  },
  "language_info": {
   "codemirror_mode": {
    "name": "ipython",
    "version": 3
   },
   "file_extension": ".py",
   "mimetype": "text/x-python",
   "name": "python",
   "nbconvert_exporter": "python",
   "pygments_lexer": "ipython3",
   "version": "3.8.16"
  }
 },
 "nbformat": 4,
 "nbformat_minor": 2
}
